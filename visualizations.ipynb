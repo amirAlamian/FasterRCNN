{
 "cells": [
  {
   "cell_type": "code",
   "execution_count": null,
   "id": "dbeae9bf",
   "metadata": {},
   "outputs": [],
   "source": [
    "classes = [0, 1]\n",
    "num_classes = len(classes)"
   ]
  }
 ],
 "metadata": {
  "language_info": {
   "name": "python"
  }
 },
 "nbformat": 4,
 "nbformat_minor": 5
}
